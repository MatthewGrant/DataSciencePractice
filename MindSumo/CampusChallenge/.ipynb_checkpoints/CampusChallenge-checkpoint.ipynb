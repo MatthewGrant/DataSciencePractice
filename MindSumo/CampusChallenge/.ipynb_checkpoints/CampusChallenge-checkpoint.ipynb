{
 "cells": [
  {
   "cell_type": "markdown",
   "metadata": {},
   "source": [
    "### Deliverable 1: Describe your analytic process and technical results– one to two pages \n",
    "    i.\tResults from your exploration of the data \n",
    "    ii.\tDescription of changes you made to prepare the data for model development (filtering, transformations, etc.) based on this exploration \n",
    "    iii.\tWhat model methodologies did you consider \n",
    "    iv.\tWhich did you use for your final submission and how did you make the decision (what metrics did you use) \n",
    "    v.\tAre there any caveats about using your chosen model(s)\n",
    "\n",
    "### Deliverable 2: Document the code used for your final model(s) – no more than two pages\n",
    "\n",
    "### Deliverable 3: Present results and insights \n",
    "#### one to three pages describing what the results from the modeling indicate and how they can help the business (visuals would be very helpful here).\n",
    "\n",
    "    i. What drives growth in accounts and/or balance between month 0 and month 12. \n",
    "    ii.\tWhat demographic types, if any, are more likely to increase (or reduce) their number of accounts and/or balance between month 0 and month 12? \n",
    "    iii.\tWhat types of accounts, customer interactions, customer events, or Wells Fargo outreach, are more correlated with account and/or balance change?"
   ]
  },
  {
   "cell_type": "markdown",
   "metadata": {},
   "source": [
    "### Import and Explore"
   ]
  },
  {
   "cell_type": "code",
   "execution_count": 1,
   "metadata": {
    "collapsed": false
   },
   "outputs": [],
   "source": [
    "import pandas as pd\n",
    "import scipy.stats as st\n",
    "import sklearn.linear_model as lm\n",
    "import matplotlib.pyplot as plt\n",
    "%matplotlib inline"
   ]
  },
  {
   "cell_type": "code",
   "execution_count": 2,
   "metadata": {
    "collapsed": false
   },
   "outputs": [
    {
     "data": {
      "text/html": [
       "<div>\n",
       "<table border=\"1\" class=\"dataframe\">\n",
       "  <thead>\n",
       "    <tr style=\"text-align: right;\">\n",
       "      <th></th>\n",
       "      <th>cust_num</th>\n",
       "      <th>month</th>\n",
       "      <th>cust_demographics_ai</th>\n",
       "      <th>cust_demographics_aii</th>\n",
       "      <th>typeA_ct</th>\n",
       "      <th>typeB_ct</th>\n",
       "      <th>typeC_flag</th>\n",
       "      <th>typeD_flag</th>\n",
       "      <th>typeE_flag</th>\n",
       "      <th>typeF_flag</th>\n",
       "      <th>...</th>\n",
       "      <th>cust_outreach_aiii</th>\n",
       "      <th>cust_outreach_aiv</th>\n",
       "      <th>cust_outreach_av</th>\n",
       "      <th>cust_outreach_avi</th>\n",
       "      <th>cust_outreach_avii</th>\n",
       "      <th>cust_outreach_aviii</th>\n",
       "      <th>wf_outreach_flag_chan_i</th>\n",
       "      <th>wf_outreach_flag_chan_ii</th>\n",
       "      <th>wf_outreach_flag_chan_iii</th>\n",
       "      <th>wf_outreach_flag_chan_iv</th>\n",
       "    </tr>\n",
       "  </thead>\n",
       "  <tbody>\n",
       "    <tr>\n",
       "      <th>0</th>\n",
       "      <td>9246</td>\n",
       "      <td>9</td>\n",
       "      <td>4</td>\n",
       "      <td>1</td>\n",
       "      <td>1</td>\n",
       "      <td>1</td>\n",
       "      <td>0</td>\n",
       "      <td>0</td>\n",
       "      <td>0</td>\n",
       "      <td>0</td>\n",
       "      <td>...</td>\n",
       "      <td>0</td>\n",
       "      <td>0</td>\n",
       "      <td>0</td>\n",
       "      <td>0</td>\n",
       "      <td>0</td>\n",
       "      <td>0</td>\n",
       "      <td>0</td>\n",
       "      <td>0</td>\n",
       "      <td>0</td>\n",
       "      <td>0</td>\n",
       "    </tr>\n",
       "    <tr>\n",
       "      <th>1</th>\n",
       "      <td>1273</td>\n",
       "      <td>2</td>\n",
       "      <td>3</td>\n",
       "      <td>3</td>\n",
       "      <td>2</td>\n",
       "      <td>1</td>\n",
       "      <td>0</td>\n",
       "      <td>0</td>\n",
       "      <td>0</td>\n",
       "      <td>1</td>\n",
       "      <td>...</td>\n",
       "      <td>0</td>\n",
       "      <td>0</td>\n",
       "      <td>0</td>\n",
       "      <td>2</td>\n",
       "      <td>0</td>\n",
       "      <td>0</td>\n",
       "      <td>0</td>\n",
       "      <td>0</td>\n",
       "      <td>0</td>\n",
       "      <td>0</td>\n",
       "    </tr>\n",
       "    <tr>\n",
       "      <th>2</th>\n",
       "      <td>6682</td>\n",
       "      <td>8</td>\n",
       "      <td>3</td>\n",
       "      <td>3</td>\n",
       "      <td>1</td>\n",
       "      <td>3</td>\n",
       "      <td>0</td>\n",
       "      <td>0</td>\n",
       "      <td>0</td>\n",
       "      <td>0</td>\n",
       "      <td>...</td>\n",
       "      <td>2</td>\n",
       "      <td>0</td>\n",
       "      <td>0</td>\n",
       "      <td>0</td>\n",
       "      <td>3</td>\n",
       "      <td>0</td>\n",
       "      <td>0</td>\n",
       "      <td>0</td>\n",
       "      <td>0</td>\n",
       "      <td>0</td>\n",
       "    </tr>\n",
       "    <tr>\n",
       "      <th>3</th>\n",
       "      <td>7946</td>\n",
       "      <td>5</td>\n",
       "      <td>4</td>\n",
       "      <td>4</td>\n",
       "      <td>0</td>\n",
       "      <td>1</td>\n",
       "      <td>0</td>\n",
       "      <td>0</td>\n",
       "      <td>0</td>\n",
       "      <td>0</td>\n",
       "      <td>...</td>\n",
       "      <td>0</td>\n",
       "      <td>0</td>\n",
       "      <td>0</td>\n",
       "      <td>0</td>\n",
       "      <td>0</td>\n",
       "      <td>0</td>\n",
       "      <td>0</td>\n",
       "      <td>1</td>\n",
       "      <td>0</td>\n",
       "      <td>0</td>\n",
       "    </tr>\n",
       "    <tr>\n",
       "      <th>4</th>\n",
       "      <td>3681</td>\n",
       "      <td>4</td>\n",
       "      <td>1</td>\n",
       "      <td>1</td>\n",
       "      <td>1</td>\n",
       "      <td>1</td>\n",
       "      <td>0</td>\n",
       "      <td>0</td>\n",
       "      <td>0</td>\n",
       "      <td>0</td>\n",
       "      <td>...</td>\n",
       "      <td>0</td>\n",
       "      <td>0</td>\n",
       "      <td>0</td>\n",
       "      <td>2</td>\n",
       "      <td>0</td>\n",
       "      <td>0</td>\n",
       "      <td>0</td>\n",
       "      <td>1</td>\n",
       "      <td>0</td>\n",
       "      <td>0</td>\n",
       "    </tr>\n",
       "  </tbody>\n",
       "</table>\n",
       "<p>5 rows × 29 columns</p>\n",
       "</div>"
      ],
      "text/plain": [
       "   cust_num  month  cust_demographics_ai  cust_demographics_aii  typeA_ct  \\\n",
       "0      9246      9                     4                      1         1   \n",
       "1      1273      2                     3                      3         2   \n",
       "2      6682      8                     3                      3         1   \n",
       "3      7946      5                     4                      4         0   \n",
       "4      3681      4                     1                      1         1   \n",
       "\n",
       "   typeB_ct  typeC_flag  typeD_flag  typeE_flag  typeF_flag  \\\n",
       "0         1           0           0           0           0   \n",
       "1         1           0           0           0           1   \n",
       "2         3           0           0           0           0   \n",
       "3         1           0           0           0           0   \n",
       "4         1           0           0           0           0   \n",
       "\n",
       "             ...             cust_outreach_aiii  cust_outreach_aiv  \\\n",
       "0            ...                              0                  0   \n",
       "1            ...                              0                  0   \n",
       "2            ...                              2                  0   \n",
       "3            ...                              0                  0   \n",
       "4            ...                              0                  0   \n",
       "\n",
       "   cust_outreach_av  cust_outreach_avi  cust_outreach_avii  \\\n",
       "0                 0                  0                   0   \n",
       "1                 0                  2                   0   \n",
       "2                 0                  0                   3   \n",
       "3                 0                  0                   0   \n",
       "4                 0                  2                   0   \n",
       "\n",
       "   cust_outreach_aviii  wf_outreach_flag_chan_i  wf_outreach_flag_chan_ii  \\\n",
       "0                    0                        0                         0   \n",
       "1                    0                        0                         0   \n",
       "2                    0                        0                         0   \n",
       "3                    0                        0                         1   \n",
       "4                    0                        0                         1   \n",
       "\n",
       "   wf_outreach_flag_chan_iii  wf_outreach_flag_chan_iv  \n",
       "0                          0                         0  \n",
       "1                          0                         0  \n",
       "2                          0                         0  \n",
       "3                          0                         0  \n",
       "4                          0                         0  \n",
       "\n",
       "[5 rows x 29 columns]"
      ]
     },
     "execution_count": 2,
     "metadata": {},
     "output_type": "execute_result"
    }
   ],
   "source": [
    "# import and view first 5 rows\n",
    "data = pd.read_csv('CampusChallengeData.csv')\n",
    "data.head()"
   ]
  },
  {
   "cell_type": "code",
   "execution_count": 3,
   "metadata": {
    "collapsed": false
   },
   "outputs": [
    {
     "data": {
      "text/plain": [
       "(120000, 29)"
      ]
     },
     "execution_count": 3,
     "metadata": {},
     "output_type": "execute_result"
    }
   ],
   "source": [
    "# 120000 records and 29 fields \n",
    "data.shape"
   ]
  },
  {
   "cell_type": "code",
   "execution_count": 4,
   "metadata": {
    "collapsed": false
   },
   "outputs": [
    {
     "data": {
      "text/plain": [
       "Index([u'cust_num', u'month', u'cust_demographics_ai',\n",
       "       u'cust_demographics_aii', u'typeA_ct', u'typeB_ct', u'typeC_flag',\n",
       "       u'typeD_flag', u'typeE_flag', u'typeF_flag', u'typeG_flag',\n",
       "       u'typeA_bal_cat', u'typeB_bal_cat', u'typeC_bal_cat', u'typeD_bal_cat',\n",
       "       u'typeE_bal_cat', u'normal_tot_bal', u'cust_outreach_ai',\n",
       "       u'cust_outreach_aii', u'cust_outreach_aiii', u'cust_outreach_aiv',\n",
       "       u'cust_outreach_av', u'cust_outreach_avi', u'cust_outreach_avii',\n",
       "       u'cust_outreach_aviii', u'wf_outreach_flag_chan_i',\n",
       "       u'wf_outreach_flag_chan_ii', u'wf_outreach_flag_chan_iii',\n",
       "       u'wf_outreach_flag_chan_iv'],\n",
       "      dtype='object')"
      ]
     },
     "execution_count": 4,
     "metadata": {},
     "output_type": "execute_result"
    }
   ],
   "source": [
    "# Get list of Columns \n",
    "data.columns"
   ]
  },
  {
   "cell_type": "code",
   "execution_count": 5,
   "metadata": {
    "collapsed": false,
    "scrolled": true
   },
   "outputs": [
    {
     "data": {
      "text/html": [
       "<div>\n",
       "<table border=\"1\" class=\"dataframe\">\n",
       "  <thead>\n",
       "    <tr style=\"text-align: right;\">\n",
       "      <th></th>\n",
       "      <th>cust_num</th>\n",
       "      <th>month</th>\n",
       "      <th>cust_demographics_ai</th>\n",
       "      <th>cust_demographics_aii</th>\n",
       "      <th>typeA_ct</th>\n",
       "      <th>typeB_ct</th>\n",
       "      <th>typeC_flag</th>\n",
       "      <th>typeD_flag</th>\n",
       "      <th>typeE_flag</th>\n",
       "      <th>typeF_flag</th>\n",
       "      <th>...</th>\n",
       "      <th>cust_outreach_aiii</th>\n",
       "      <th>cust_outreach_aiv</th>\n",
       "      <th>cust_outreach_av</th>\n",
       "      <th>cust_outreach_avi</th>\n",
       "      <th>cust_outreach_avii</th>\n",
       "      <th>cust_outreach_aviii</th>\n",
       "      <th>wf_outreach_flag_chan_i</th>\n",
       "      <th>wf_outreach_flag_chan_ii</th>\n",
       "      <th>wf_outreach_flag_chan_iii</th>\n",
       "      <th>wf_outreach_flag_chan_iv</th>\n",
       "    </tr>\n",
       "  </thead>\n",
       "  <tbody>\n",
       "    <tr>\n",
       "      <th>97206</th>\n",
       "      <td>10000</td>\n",
       "      <td>8</td>\n",
       "      <td>3</td>\n",
       "      <td>3</td>\n",
       "      <td>3</td>\n",
       "      <td>2</td>\n",
       "      <td>0</td>\n",
       "      <td>0</td>\n",
       "      <td>0</td>\n",
       "      <td>1</td>\n",
       "      <td>...</td>\n",
       "      <td>3</td>\n",
       "      <td>0</td>\n",
       "      <td>0</td>\n",
       "      <td>3</td>\n",
       "      <td>0</td>\n",
       "      <td>0</td>\n",
       "      <td>0</td>\n",
       "      <td>0</td>\n",
       "      <td>0</td>\n",
       "      <td>0</td>\n",
       "    </tr>\n",
       "    <tr>\n",
       "      <th>97735</th>\n",
       "      <td>10000</td>\n",
       "      <td>9</td>\n",
       "      <td>3</td>\n",
       "      <td>3</td>\n",
       "      <td>3</td>\n",
       "      <td>2</td>\n",
       "      <td>0</td>\n",
       "      <td>0</td>\n",
       "      <td>0</td>\n",
       "      <td>1</td>\n",
       "      <td>...</td>\n",
       "      <td>4</td>\n",
       "      <td>0</td>\n",
       "      <td>0</td>\n",
       "      <td>10</td>\n",
       "      <td>0</td>\n",
       "      <td>0</td>\n",
       "      <td>0</td>\n",
       "      <td>0</td>\n",
       "      <td>0</td>\n",
       "      <td>0</td>\n",
       "    </tr>\n",
       "    <tr>\n",
       "      <th>96148</th>\n",
       "      <td>10000</td>\n",
       "      <td>10</td>\n",
       "      <td>3</td>\n",
       "      <td>3</td>\n",
       "      <td>3</td>\n",
       "      <td>2</td>\n",
       "      <td>0</td>\n",
       "      <td>0</td>\n",
       "      <td>0</td>\n",
       "      <td>1</td>\n",
       "      <td>...</td>\n",
       "      <td>4</td>\n",
       "      <td>0</td>\n",
       "      <td>1</td>\n",
       "      <td>14</td>\n",
       "      <td>0</td>\n",
       "      <td>0</td>\n",
       "      <td>0</td>\n",
       "      <td>0</td>\n",
       "      <td>0</td>\n",
       "      <td>0</td>\n",
       "    </tr>\n",
       "    <tr>\n",
       "      <th>91916</th>\n",
       "      <td>10000</td>\n",
       "      <td>11</td>\n",
       "      <td>3</td>\n",
       "      <td>3</td>\n",
       "      <td>3</td>\n",
       "      <td>2</td>\n",
       "      <td>0</td>\n",
       "      <td>0</td>\n",
       "      <td>0</td>\n",
       "      <td>1</td>\n",
       "      <td>...</td>\n",
       "      <td>3</td>\n",
       "      <td>0</td>\n",
       "      <td>1</td>\n",
       "      <td>9</td>\n",
       "      <td>0</td>\n",
       "      <td>0</td>\n",
       "      <td>0</td>\n",
       "      <td>0</td>\n",
       "      <td>0</td>\n",
       "      <td>0</td>\n",
       "    </tr>\n",
       "    <tr>\n",
       "      <th>92974</th>\n",
       "      <td>10000</td>\n",
       "      <td>12</td>\n",
       "      <td>3</td>\n",
       "      <td>3</td>\n",
       "      <td>3</td>\n",
       "      <td>2</td>\n",
       "      <td>0</td>\n",
       "      <td>0</td>\n",
       "      <td>0</td>\n",
       "      <td>1</td>\n",
       "      <td>...</td>\n",
       "      <td>3</td>\n",
       "      <td>0</td>\n",
       "      <td>0</td>\n",
       "      <td>14</td>\n",
       "      <td>1</td>\n",
       "      <td>0</td>\n",
       "      <td>0</td>\n",
       "      <td>0</td>\n",
       "      <td>0</td>\n",
       "      <td>0</td>\n",
       "    </tr>\n",
       "  </tbody>\n",
       "</table>\n",
       "<p>5 rows × 29 columns</p>\n",
       "</div>"
      ],
      "text/plain": [
       "       cust_num  month  cust_demographics_ai  cust_demographics_aii  typeA_ct  \\\n",
       "97206     10000      8                     3                      3         3   \n",
       "97735     10000      9                     3                      3         3   \n",
       "96148     10000     10                     3                      3         3   \n",
       "91916     10000     11                     3                      3         3   \n",
       "92974     10000     12                     3                      3         3   \n",
       "\n",
       "       typeB_ct  typeC_flag  typeD_flag  typeE_flag  typeF_flag  \\\n",
       "97206         2           0           0           0           1   \n",
       "97735         2           0           0           0           1   \n",
       "96148         2           0           0           0           1   \n",
       "91916         2           0           0           0           1   \n",
       "92974         2           0           0           0           1   \n",
       "\n",
       "                 ...             cust_outreach_aiii  cust_outreach_aiv  \\\n",
       "97206            ...                              3                  0   \n",
       "97735            ...                              4                  0   \n",
       "96148            ...                              4                  0   \n",
       "91916            ...                              3                  0   \n",
       "92974            ...                              3                  0   \n",
       "\n",
       "       cust_outreach_av  cust_outreach_avi  cust_outreach_avii  \\\n",
       "97206                 0                  3                   0   \n",
       "97735                 0                 10                   0   \n",
       "96148                 1                 14                   0   \n",
       "91916                 1                  9                   0   \n",
       "92974                 0                 14                   1   \n",
       "\n",
       "       cust_outreach_aviii  wf_outreach_flag_chan_i  wf_outreach_flag_chan_ii  \\\n",
       "97206                    0                        0                         0   \n",
       "97735                    0                        0                         0   \n",
       "96148                    0                        0                         0   \n",
       "91916                    0                        0                         0   \n",
       "92974                    0                        0                         0   \n",
       "\n",
       "       wf_outreach_flag_chan_iii  wf_outreach_flag_chan_iv  \n",
       "97206                          0                         0  \n",
       "97735                          0                         0  \n",
       "96148                          0                         0  \n",
       "91916                          0                         0  \n",
       "92974                          0                         0  \n",
       "\n",
       "[5 rows x 29 columns]"
      ]
     },
     "execution_count": 5,
     "metadata": {},
     "output_type": "execute_result"
    }
   ],
   "source": [
    "# sort the values by customer and month\n",
    "data.sort_values(['cust_num','month'],inplace=True)\n",
    "data.tail()"
   ]
  },
  {
   "cell_type": "code",
   "execution_count": 6,
   "metadata": {
    "collapsed": false
   },
   "outputs": [
    {
     "data": {
      "text/html": [
       "<div>\n",
       "<table border=\"1\" class=\"dataframe\">\n",
       "  <thead>\n",
       "    <tr style=\"text-align: right;\">\n",
       "      <th></th>\n",
       "      <th>cust_num</th>\n",
       "      <th>month</th>\n",
       "      <th>typeA_bal_cat</th>\n",
       "      <th>normal_tot_bal</th>\n",
       "    </tr>\n",
       "  </thead>\n",
       "  <tbody>\n",
       "    <tr>\n",
       "      <th>69031</th>\n",
       "      <td>1</td>\n",
       "      <td>1</td>\n",
       "      <td>3</td>\n",
       "      <td>-0.373969</td>\n",
       "    </tr>\n",
       "    <tr>\n",
       "      <th>69705</th>\n",
       "      <td>1</td>\n",
       "      <td>2</td>\n",
       "      <td>2</td>\n",
       "      <td>-0.384322</td>\n",
       "    </tr>\n",
       "    <tr>\n",
       "      <th>70379</th>\n",
       "      <td>1</td>\n",
       "      <td>3</td>\n",
       "      <td>2</td>\n",
       "      <td>-0.391042</td>\n",
       "    </tr>\n",
       "    <tr>\n",
       "      <th>71053</th>\n",
       "      <td>1</td>\n",
       "      <td>4</td>\n",
       "      <td>1</td>\n",
       "      <td>-0.394362</td>\n",
       "    </tr>\n",
       "    <tr>\n",
       "      <th>71727</th>\n",
       "      <td>1</td>\n",
       "      <td>5</td>\n",
       "      <td>1</td>\n",
       "      <td>-0.397683</td>\n",
       "    </tr>\n",
       "  </tbody>\n",
       "</table>\n",
       "</div>"
      ],
      "text/plain": [
       "       cust_num  month  typeA_bal_cat  normal_tot_bal\n",
       "69031         1      1              3       -0.373969\n",
       "69705         1      2              2       -0.384322\n",
       "70379         1      3              2       -0.391042\n",
       "71053         1      4              1       -0.394362\n",
       "71727         1      5              1       -0.397683"
      ]
     },
     "execution_count": 6,
     "metadata": {},
     "output_type": "execute_result"
    }
   ],
   "source": [
    "# view first customer \n",
    "data[['cust_num','month','typeA_bal_cat','normal_tot_bal']].head()"
   ]
  },
  {
   "cell_type": "code",
   "execution_count": 7,
   "metadata": {
    "collapsed": false
   },
   "outputs": [
    {
     "data": {
      "text/html": [
       "<div>\n",
       "<table border=\"1\" class=\"dataframe\">\n",
       "  <thead>\n",
       "    <tr style=\"text-align: right;\">\n",
       "      <th></th>\n",
       "      <th>cust_num</th>\n",
       "      <th>month</th>\n",
       "      <th>cust_demographics_ai</th>\n",
       "      <th>cust_demographics_aii</th>\n",
       "      <th>typeA_ct</th>\n",
       "      <th>typeB_ct</th>\n",
       "      <th>typeC_flag</th>\n",
       "      <th>typeD_flag</th>\n",
       "      <th>typeE_flag</th>\n",
       "      <th>typeF_flag</th>\n",
       "      <th>...</th>\n",
       "      <th>cust_outreach_aiii</th>\n",
       "      <th>cust_outreach_aiv</th>\n",
       "      <th>cust_outreach_av</th>\n",
       "      <th>cust_outreach_avi</th>\n",
       "      <th>cust_outreach_avii</th>\n",
       "      <th>cust_outreach_aviii</th>\n",
       "      <th>wf_outreach_flag_chan_i</th>\n",
       "      <th>wf_outreach_flag_chan_ii</th>\n",
       "      <th>wf_outreach_flag_chan_iii</th>\n",
       "      <th>wf_outreach_flag_chan_iv</th>\n",
       "    </tr>\n",
       "  </thead>\n",
       "  <tbody>\n",
       "  </tbody>\n",
       "</table>\n",
       "<p>0 rows × 29 columns</p>\n",
       "</div>"
      ],
      "text/plain": [
       "Empty DataFrame\n",
       "Columns: [cust_num, month, cust_demographics_ai, cust_demographics_aii, typeA_ct, typeB_ct, typeC_flag, typeD_flag, typeE_flag, typeF_flag, typeG_flag, typeA_bal_cat, typeB_bal_cat, typeC_bal_cat, typeD_bal_cat, typeE_bal_cat, normal_tot_bal, cust_outreach_ai, cust_outreach_aii, cust_outreach_aiii, cust_outreach_aiv, cust_outreach_av, cust_outreach_avi, cust_outreach_avii, cust_outreach_aviii, wf_outreach_flag_chan_i, wf_outreach_flag_chan_ii, wf_outreach_flag_chan_iii, wf_outreach_flag_chan_iv]\n",
       "Index: []\n",
       "\n",
       "[0 rows x 29 columns]"
      ]
     },
     "execution_count": 7,
     "metadata": {},
     "output_type": "execute_result"
    }
   ],
   "source": [
    "# check for duplicates rows\n",
    "data[data.duplicated()]"
   ]
  },
  {
   "cell_type": "code",
   "execution_count": 8,
   "metadata": {
    "collapsed": false
   },
   "outputs": [
    {
     "data": {
      "text/html": [
       "<div>\n",
       "<table border=\"1\" class=\"dataframe\">\n",
       "  <thead>\n",
       "    <tr style=\"text-align: right;\">\n",
       "      <th></th>\n",
       "      <th>cust_num</th>\n",
       "      <th>month</th>\n",
       "      <th>cust_demographics_ai</th>\n",
       "      <th>cust_demographics_aii</th>\n",
       "      <th>typeA_ct</th>\n",
       "      <th>typeB_ct</th>\n",
       "      <th>typeC_flag</th>\n",
       "      <th>typeD_flag</th>\n",
       "      <th>typeE_flag</th>\n",
       "      <th>typeF_flag</th>\n",
       "      <th>...</th>\n",
       "      <th>cust_outreach_aiii</th>\n",
       "      <th>cust_outreach_aiv</th>\n",
       "      <th>cust_outreach_av</th>\n",
       "      <th>cust_outreach_avi</th>\n",
       "      <th>cust_outreach_avii</th>\n",
       "      <th>cust_outreach_aviii</th>\n",
       "      <th>wf_outreach_flag_chan_i</th>\n",
       "      <th>wf_outreach_flag_chan_ii</th>\n",
       "      <th>wf_outreach_flag_chan_iii</th>\n",
       "      <th>wf_outreach_flag_chan_iv</th>\n",
       "    </tr>\n",
       "  </thead>\n",
       "  <tbody>\n",
       "  </tbody>\n",
       "</table>\n",
       "<p>0 rows × 29 columns</p>\n",
       "</div>"
      ],
      "text/plain": [
       "Empty DataFrame\n",
       "Columns: [cust_num, month, cust_demographics_ai, cust_demographics_aii, typeA_ct, typeB_ct, typeC_flag, typeD_flag, typeE_flag, typeF_flag, typeG_flag, typeA_bal_cat, typeB_bal_cat, typeC_bal_cat, typeD_bal_cat, typeE_bal_cat, normal_tot_bal, cust_outreach_ai, cust_outreach_aii, cust_outreach_aiii, cust_outreach_aiv, cust_outreach_av, cust_outreach_avi, cust_outreach_avii, cust_outreach_aviii, wf_outreach_flag_chan_i, wf_outreach_flag_chan_ii, wf_outreach_flag_chan_iii, wf_outreach_flag_chan_iv]\n",
       "Index: []\n",
       "\n",
       "[0 rows x 29 columns]"
      ]
     },
     "execution_count": 8,
     "metadata": {},
     "output_type": "execute_result"
    }
   ],
   "source": [
    "# check for null values \n",
    "data[data.isnull().any(axis=1)]"
   ]
  },
  {
   "cell_type": "code",
   "execution_count": 9,
   "metadata": {
    "collapsed": false
   },
   "outputs": [],
   "source": [
    "jan = data[data['month'] == 1]\n",
    "feb = data[data['month'] == 2]\n",
    "mar = data[data['month'] == 3]\n",
    "apr = data[data['month'] == 4]\n",
    "may = data[data['month'] == 5]\n",
    "jun = data[data['month'] == 6]\n",
    "jul = data[data['month'] == 7]\n",
    "aug = data[data['month'] == 8]\n",
    "sep = data[data['month'] == 9]\n",
    "octb = data[data['month'] == 10]\n",
    "nov = data[data['month'] == 11]\n",
    "dec = data[data['month'] == 12]"
   ]
  },
  {
   "cell_type": "code",
   "execution_count": null,
   "metadata": {
    "collapsed": false
   },
   "outputs": [],
   "source": []
  },
  {
   "cell_type": "code",
   "execution_count": 97,
   "metadata": {
    "collapsed": false,
    "scrolled": true
   },
   "outputs": [
    {
     "data": {
      "text/plain": [
       "<matplotlib.axes._subplots.AxesSubplot at 0x115db7150>"
      ]
     },
     "execution_count": 97,
     "metadata": {},
     "output_type": "execute_result"
    },
    {
     "data": {
      "image/png": "[encoded data removed]",
      "text/plain": [
       "<matplotlib.figure.Figure at 0x115db79d0>"
      ]
     },
     "metadata": {},
     "output_type": "display_data"
    }
   ],
   "source": [
    "data.groupby('typeA_ct').size().plot('bar',title='Number of Type A accounts')"
   ]
  },
  {
   "cell_type": "code",
   "execution_count": 52,
   "metadata": {
    "collapsed": false
   },
   "outputs": [
    {
     "data": {
      "text/plain": [
       "<matplotlib.axes._subplots.AxesSubplot at 0x111f50390>"
      ]
     },
     "execution_count": 52,
     "metadata": {},
     "output_type": "execute_result"
    },
    {
     "data": {
      "image/png": "[encoded data removed]",
      "text/plain": [
       "<matplotlib.figure.Figure at 0x111f4bed0>"
      ]
     },
     "metadata": {},
     "output_type": "display_data"
    }
   ],
   "source": [
    "data.groupby('typeB_ct').size().plot('bar',title='Number of Type B accounts')"
   ]
  },
  {
   "cell_type": "code",
   "execution_count": 93,
   "metadata": {
    "collapsed": false
   },
   "outputs": [
    {
     "data": {
      "text/plain": [
       "month  typeA_ct\n",
       "1      0           1238\n",
       "       1           5456\n",
       "       2           2226\n",
       "       3            744\n",
       "       4            241\n",
       "       5             64\n",
       "       6             19\n",
       "       7              7\n",
       "       8              3\n",
       "       10             2\n",
       "2      0           1234\n",
       "       1           5453\n",
       "       2           2233\n",
       "       3            742\n",
       "       4            244\n",
       "       5             63\n",
       "       6             19\n",
       "       7              7\n",
       "       8              3\n",
       "       10             2\n",
       "3      0           1235\n",
       "       1           5444\n",
       "       2           2239\n",
       "       3            745\n",
       "       4            244\n",
       "       5             61\n",
       "       6             19\n",
       "       7              8\n",
       "       8              3\n",
       "       10             2\n",
       "                   ... \n",
       "10     0           1225\n",
       "       1           5480\n",
       "       2           2219\n",
       "       3            730\n",
       "       4            250\n",
       "       5             63\n",
       "       6             19\n",
       "       7              9\n",
       "       8              3\n",
       "       10             2\n",
       "11     0           1220\n",
       "       1           5487\n",
       "       2           2212\n",
       "       3            737\n",
       "       4            248\n",
       "       5             64\n",
       "       6             18\n",
       "       7              9\n",
       "       8              3\n",
       "       10             2\n",
       "12     0           1219\n",
       "       1           5482\n",
       "       2           2215\n",
       "       3            740\n",
       "       4            245\n",
       "       5             68\n",
       "       6             17\n",
       "       7              9\n",
       "       8              3\n",
       "       10             2\n",
       "dtype: int64"
      ]
     },
     "execution_count": 93,
     "metadata": {},
     "output_type": "execute_result"
    }
   ],
   "source": [
    "#pd.pivot_table(data,values = 'typeA_ct',index='month')\n",
    "data.groupby(['month','typeA_ct']).size()"
   ]
  }
 ],
 "metadata": {
  "kernelspec": {
   "display_name": "Python 2",
   "language": "python",
   "name": "python2"
  },
  "language_info": {
   "codemirror_mode": {
    "name": "ipython",
    "version": 2
   },
   "file_extension": ".py",
   "mimetype": "text/x-python",
   "name": "python",
   "nbconvert_exporter": "python",
   "pygments_lexer": "ipython2",
   "version": "2.7.11"
  }
 },
 "nbformat": 4,
 "nbformat_minor": 0
}
