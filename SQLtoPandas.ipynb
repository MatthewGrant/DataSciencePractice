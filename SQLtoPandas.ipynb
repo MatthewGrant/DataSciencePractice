{
 "cells": [
  {
   "cell_type": "markdown",
   "metadata": {},
   "source": [
    "## Local postgres database to Pandas Dataframe "
   ]
  },
  {
   "cell_type": "code",
   "execution_count": 1,
   "metadata": {
    "collapsed": false
   },
   "outputs": [],
   "source": [
    "import numpy as np\n",
    "import pandas as pd\n",
    "from sqlalchemy import create_engine #requires psycog2 module to connect to postgres SQL"
   ]
  },
  {
   "cell_type": "code",
   "execution_count": 2,
   "metadata": {
    "collapsed": false
   },
   "outputs": [],
   "source": [
    "# Create Connection to local database \n",
    "engine = create_engine('postgresql://postgres@localhost:5432/tysql')"
   ]
  },
  {
   "cell_type": "code",
   "execution_count": 3,
   "metadata": {
    "collapsed": true
   },
   "outputs": [],
   "source": [
    "# Create a dataFrame from a SQL command\n",
    "df = pd.read_sql_query('select * from products',con=engine)"
   ]
  },
  {
   "cell_type": "code",
   "execution_count": 6,
   "metadata": {
    "collapsed": false
   },
   "outputs": [
    {
     "data": {
      "text/html": [
       "<div>\n",
       "<table border=\"1\" class=\"dataframe\">\n",
       "  <thead>\n",
       "    <tr style=\"text-align: right;\">\n",
       "      <th></th>\n",
       "      <th>prod_id</th>\n",
       "      <th>vend_id</th>\n",
       "      <th>prod_name</th>\n",
       "      <th>prod_price</th>\n",
       "      <th>prod_desc</th>\n",
       "    </tr>\n",
       "  </thead>\n",
       "  <tbody>\n",
       "    <tr>\n",
       "      <th>0</th>\n",
       "      <td>BR01</td>\n",
       "      <td>BRS01</td>\n",
       "      <td>8 inch teddy bear                             ...</td>\n",
       "      <td>5.99</td>\n",
       "      <td>8 inch teddy bear, comes with cap and jacket</td>\n",
       "    </tr>\n",
       "    <tr>\n",
       "      <th>1</th>\n",
       "      <td>BR02</td>\n",
       "      <td>BRS01</td>\n",
       "      <td>12 inch teddy bear                            ...</td>\n",
       "      <td>8.99</td>\n",
       "      <td>12 inch teddy bear, comes with cap and jacket</td>\n",
       "    </tr>\n",
       "    <tr>\n",
       "      <th>2</th>\n",
       "      <td>BR03</td>\n",
       "      <td>BRS01</td>\n",
       "      <td>18 inch teddy bear                            ...</td>\n",
       "      <td>11.99</td>\n",
       "      <td>18 inch teddy bear, comes with cap and jacket</td>\n",
       "    </tr>\n",
       "    <tr>\n",
       "      <th>3</th>\n",
       "      <td>BNBG01</td>\n",
       "      <td>DLL01</td>\n",
       "      <td>Fish bean bag toy                             ...</td>\n",
       "      <td>3.49</td>\n",
       "      <td>Fish bean bag toy, complete with bean bag worm...</td>\n",
       "    </tr>\n",
       "    <tr>\n",
       "      <th>4</th>\n",
       "      <td>BNBG02</td>\n",
       "      <td>DLL01</td>\n",
       "      <td>Bird bean bag toy                             ...</td>\n",
       "      <td>3.49</td>\n",
       "      <td>Bird bean bag toy, eggs are not included</td>\n",
       "    </tr>\n",
       "    <tr>\n",
       "      <th>5</th>\n",
       "      <td>BNBG03</td>\n",
       "      <td>DLL01</td>\n",
       "      <td>Rabbit bean bag toy                           ...</td>\n",
       "      <td>3.49</td>\n",
       "      <td>Rabbit bean bag toy, comes with bean bag carrots</td>\n",
       "    </tr>\n",
       "    <tr>\n",
       "      <th>6</th>\n",
       "      <td>RGAN01</td>\n",
       "      <td>DLL01</td>\n",
       "      <td>Raggedy Ann                                   ...</td>\n",
       "      <td>4.99</td>\n",
       "      <td>18 inch Raggedy Ann doll</td>\n",
       "    </tr>\n",
       "    <tr>\n",
       "      <th>7</th>\n",
       "      <td>RYL01</td>\n",
       "      <td>FNG01</td>\n",
       "      <td>King doll                                     ...</td>\n",
       "      <td>9.49</td>\n",
       "      <td>12 inch king doll with royal garments and crown</td>\n",
       "    </tr>\n",
       "    <tr>\n",
       "      <th>8</th>\n",
       "      <td>RYL02</td>\n",
       "      <td>FNG01</td>\n",
       "      <td>Queen doll                                    ...</td>\n",
       "      <td>9.49</td>\n",
       "      <td>12 inch queen doll with royal garments and crown</td>\n",
       "    </tr>\n",
       "  </tbody>\n",
       "</table>\n",
       "</div>"
      ],
      "text/plain": [
       "      prod_id     vend_id                                          prod_name  \\\n",
       "0  BR01        BRS01       8 inch teddy bear                             ...   \n",
       "1  BR02        BRS01       12 inch teddy bear                            ...   \n",
       "2  BR03        BRS01       18 inch teddy bear                            ...   \n",
       "3  BNBG01      DLL01       Fish bean bag toy                             ...   \n",
       "4  BNBG02      DLL01       Bird bean bag toy                             ...   \n",
       "5  BNBG03      DLL01       Rabbit bean bag toy                           ...   \n",
       "6  RGAN01      DLL01       Raggedy Ann                                   ...   \n",
       "7  RYL01       FNG01       King doll                                     ...   \n",
       "8  RYL02       FNG01       Queen doll                                    ...   \n",
       "\n",
       "   prod_price                                          prod_desc  \n",
       "0        5.99       8 inch teddy bear, comes with cap and jacket  \n",
       "1        8.99      12 inch teddy bear, comes with cap and jacket  \n",
       "2       11.99      18 inch teddy bear, comes with cap and jacket  \n",
       "3        3.49  Fish bean bag toy, complete with bean bag worm...  \n",
       "4        3.49           Bird bean bag toy, eggs are not included  \n",
       "5        3.49   Rabbit bean bag toy, comes with bean bag carrots  \n",
       "6        4.99                           18 inch Raggedy Ann doll  \n",
       "7        9.49    12 inch king doll with royal garments and crown  \n",
       "8        9.49   12 inch queen doll with royal garments and crown  "
      ]
     },
     "execution_count": 6,
     "metadata": {},
     "output_type": "execute_result"
    }
   ],
   "source": [
    "#\n",
    "df"
   ]
  },
  {
   "cell_type": "code",
   "execution_count": null,
   "metadata": {
    "collapsed": true
   },
   "outputs": [],
   "source": []
  }
 ],
 "metadata": {
  "kernelspec": {
   "display_name": "Python 2",
   "language": "python",
   "name": "python2"
  },
  "language_info": {
   "codemirror_mode": {
    "name": "ipython",
    "version": 2
   },
   "file_extension": ".py",
   "mimetype": "text/x-python",
   "name": "python",
   "nbconvert_exporter": "python",
   "pygments_lexer": "ipython2",
   "version": "2.7.10"
  }
 },
 "nbformat": 4,
 "nbformat_minor": 0
}
